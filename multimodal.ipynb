{
 "cells": [
  {
   "cell_type": "code",
   "execution_count": 2,
   "id": "a65a7fb5",
   "metadata": {},
   "outputs": [
    {
     "name": "stderr",
     "output_type": "stream",
     "text": [
      "/home/edlab/sjim/anaconda3/envs/ai502/lib/python3.10/site-packages/tqdm/auto.py:21: TqdmWarning: IProgress not found. Please update jupyter and ipywidgets. See https://ipywidgets.readthedocs.io/en/stable/user_install.html\n",
      "  from .autonotebook import tqdm as notebook_tqdm\n"
     ]
    }
   ],
   "source": [
    "import torch\n",
    "import torch.nn as nn\n",
    "from torchvision import models\n",
    "from transformers import AutoModel, AutoTokenizer\n",
    "\n",
    "class MultiModalAneurysmClassifier(nn.Module):\n",
    "    def __init__(self, text_model_name=\"bert-base-uncased\", image_model_name=\"resnet18\", hidden_dim=512):\n",
    "        super().__init__()\n",
    "        \n",
    "        # Image encoder\n",
    "        image_model = models.__dict__[image_model_name](pretrained=True)\n",
    "        self.image_encoder = nn.Sequential(*list(image_model.children())[:-1])  # remove FC layer\n",
    "        self.image_feature_dim = image_model.fc.in_features\n",
    "        \n",
    "        # Text encoder\n",
    "        self.text_encoder = AutoModel.from_pretrained(text_model_name)\n",
    "        self.tokenizer = AutoTokenizer.from_pretrained(text_model_name)\n",
    "        self.text_feature_dim = self.text_encoder.config.hidden_size\n",
    "        \n",
    "        # Fusion MLP\n",
    "        self.fusion_layer = nn.Sequential(\n",
    "            nn.Linear(self.image_feature_dim + self.text_feature_dim, hidden_dim),\n",
    "            nn.ReLU(),\n",
    "            nn.Dropout(0.2),\n",
    "        )\n",
    "        \n",
    "        # Final classifier (22 binary outputs)\n",
    "        self.classifier = nn.Sequential(\n",
    "            nn.Linear(hidden_dim * 8, hidden_dim),\n",
    "            nn.ReLU(),\n",
    "            nn.Linear(hidden_dim, 22),\n",
    "            nn.Sigmoid()\n",
    "        )\n",
    "\n",
    "    def forward(self, images, texts):\n",
    "        \"\"\"\n",
    "        images: [B, 8, 3, H, W]\n",
    "        texts: list of 8 * B text strings\n",
    "        \"\"\"\n",
    "        B = images.size(0)\n",
    "        all_fused = []\n",
    "\n",
    "        for i in range(8):\n",
    "            img = images[:, i, :, :, :]  # [B, 3, H, W]\n",
    "            img_feat = self.image_encoder(img).squeeze(-1).squeeze(-1)  # [B, image_feature_dim]\n",
    "            \n",
    "            txt_batch = [t[i] for t in texts]  # List[B]\n",
    "            tokens = self.tokenizer(txt_batch, return_tensors=\"pt\", padding=True, truncation=True).to(images.device)\n",
    "            txt_feat = self.text_encoder(**tokens).last_hidden_state[:, 0, :]  # CLS token\n",
    "            \n",
    "            fused = torch.cat([img_feat, txt_feat], dim=1)  # [B, image+text]\n",
    "            fused = self.fusion_layer(fused)  # [B, hidden_dim]\n",
    "            all_fused.append(fused)\n",
    "\n",
    "        combined = torch.cat(all_fused, dim=1)  # [B, hidden_dim * 8]\n",
    "        out = self.classifier(combined)  # [B, 22]\n",
    "        return out\n"
   ]
  },
  {
   "cell_type": "code",
   "execution_count": 4,
   "id": "c3a4b65c",
   "metadata": {},
   "outputs": [],
   "source": [
    "def make_text_descriptions(index):\n",
    "    return [\n",
    "        \"Left internal carotid artery injection, view A\",\n",
    "        \"Left internal carotid artery injection, view B\",\n",
    "        \"Right internal carotid artery injection, view A\",\n",
    "        \"Right internal carotid artery injection, view B\",\n",
    "        \"Left vertebral artery injection, view A\",\n",
    "        \"Left vertebral artery injection, view B\",\n",
    "        \"Right vertebral artery injection, view A\",\n",
    "        \"Right vertebral artery injection, view B\",\n",
    "    ]\n"
   ]
  },
  {
   "cell_type": "code",
   "execution_count": 6,
   "id": "cb71899c",
   "metadata": {},
   "outputs": [],
   "source": [
    "import os\n",
    "import pandas as pd\n",
    "import torch\n",
    "from torch.utils.data import Dataset, DataLoader\n",
    "from torchvision import transforms\n",
    "from PIL import Image\n",
    "# csv_path = \"/home/edlab/sjim/k-ium-coding-vessels/train_set/train.csv\"\n",
    "# image_dir = \"/home/edlab/sjim/k-ium-coding-vessels/train_set/images\"\n",
    "class AneurysmDataset(Dataset):\n",
    "    def __init__(self, csv_path, image_dir, tokenizer, transform=None):\n",
    "        self.df = pd.read_csv(csv_path)\n",
    "        self.image_dir = image_dir\n",
    "        self.transform = transform\n",
    "        self.tokenizer = tokenizer\n",
    "        \n",
    "        self.image_order = ['LI-A', 'LI-B', 'RI-A', 'RI-B', 'LV-A', 'LV-B', 'RV-A', 'RV-B']\n",
    "        self.text_map = {\n",
    "            'LI-A': \"Left internal carotid artery injection, view A\",\n",
    "            'LI-B': \"Left internal carotid artery injection, view B\",\n",
    "            'RI-A': \"Right internal carotid artery injection, view A\",\n",
    "            'RI-B': \"Right internal carotid artery injection, view B\",\n",
    "            'LV-A': \"Left vertebral artery injection, view A\",\n",
    "            'LV-B': \"Left vertebral artery injection, view B\",\n",
    "            'RV-A': \"Right vertebral artery injection, view A\",\n",
    "            'RV-B': \"Right vertebral artery injection, view B\",\n",
    "        }\n",
    "        \n",
    "    def __len__(self):\n",
    "        return len(self.df)\n",
    "    \n",
    "    def __getitem__(self, idx):\n",
    "        row = self.df.iloc[idx]\n",
    "        patient_id = str(row[\"Index\"])\n",
    "        \n",
    "        # 1. 이미지 로딩\n",
    "        # imagefx에서 crop, preprocess사용하기\n",
    "        images = []\n",
    "        for suffix in self.image_order:\n",
    "            image_path = os.path.join(self.image_dir, f\"{patient_id}{suffix}.jpg\")\n",
    "            image = Image.open(image_path).convert(\"RGB\")\n",
    "            if self.transform:\n",
    "                image = self.transform(image)\n",
    "            images.append(image)\n",
    "        images = torch.stack(images)  # [8, 3, H, W]\n",
    "\n",
    "        # 2. 텍스트 설명 리스트\n",
    "        texts = [self.text_map[suffix] for suffix in self.image_order]\n",
    "\n",
    "        # 3. 레이블\n",
    "        label = torch.tensor(row.values[1:], dtype=torch.float)  # [22]\n",
    "        \n",
    "        return images, texts, label\n"
   ]
  },
  {
   "cell_type": "code",
   "execution_count": 8,
   "id": "37d7c988",
   "metadata": {},
   "outputs": [],
   "source": [
    "from transformers import AutoTokenizer\n",
    "\n",
    "# 텍스트 tokenizer\n",
    "tokenizer = AutoTokenizer.from_pretrained(\"bert-base-uncased\")\n",
    "\n",
    "# 이미지 전처리\n",
    "image_transform = transforms.Compose([\n",
    "    transforms.Resize((224, 224)),\n",
    "    transforms.ToTensor(),\n",
    "    transforms.Normalize(mean=[0.485, 0.456, 0.406],  # ImageNet 평균\n",
    "                         std=[0.229, 0.224, 0.225])\n",
    "])\n",
    "\n",
    "# Dataset & DataLoader\n",
    "dataset = AneurysmDataset(\n",
    "    csv_path=\"./train_set/train.csv\",\n",
    "    image_dir=\"images\",\n",
    "    tokenizer=tokenizer,\n",
    "    transform=image_transform\n",
    ")\n",
    "\n",
    "dataloader = DataLoader(\n",
    "    dataset,\n",
    "    batch_size=8,\n",
    "    shuffle=True,\n",
    "    num_workers=4,\n",
    "    pin_memory=True\n",
    ")\n"
   ]
  },
  {
   "cell_type": "code",
   "execution_count": 11,
   "id": "905cfe2b",
   "metadata": {},
   "outputs": [
    {
     "data": {
      "text/html": [
       "Finishing previous runs because reinit is set to 'default'."
      ],
      "text/plain": [
       "<IPython.core.display.HTML object>"
      ]
     },
     "metadata": {},
     "output_type": "display_data"
    },
    {
     "name": "stderr",
     "output_type": "stream",
     "text": [
      "\u001b[34m\u001b[1mwandb\u001b[0m: \u001b[32m\u001b[41mERROR\u001b[0m The nbformat package was not found. It is required to save notebook history.\n"
     ]
    },
    {
     "data": {
      "text/html": [],
      "text/plain": [
       "<IPython.core.display.HTML object>"
      ]
     },
     "metadata": {},
     "output_type": "display_data"
    },
    {
     "data": {
      "text/html": [
       " View run <strong style=\"color:#cdcd00\">unique-brook-1</strong> at: <a href='https://wandb.ai/sujeongim/aneurysm-multimodal/runs/trephqhy' target=\"_blank\">https://wandb.ai/sujeongim/aneurysm-multimodal/runs/trephqhy</a><br> View project at: <a href='https://wandb.ai/sujeongim/aneurysm-multimodal' target=\"_blank\">https://wandb.ai/sujeongim/aneurysm-multimodal</a><br>Synced 5 W&B file(s), 0 media file(s), 0 artifact file(s) and 0 other file(s)"
      ],
      "text/plain": [
       "<IPython.core.display.HTML object>"
      ]
     },
     "metadata": {},
     "output_type": "display_data"
    },
    {
     "data": {
      "text/html": [
       "Find logs at: <code>./wandb/run-20250528_144212-trephqhy/logs</code>"
      ],
      "text/plain": [
       "<IPython.core.display.HTML object>"
      ]
     },
     "metadata": {},
     "output_type": "display_data"
    },
    {
     "data": {
      "text/html": [
       "Tracking run with wandb version 0.19.11"
      ],
      "text/plain": [
       "<IPython.core.display.HTML object>"
      ]
     },
     "metadata": {},
     "output_type": "display_data"
    },
    {
     "data": {
      "text/html": [
       "Run data is saved locally in <code>/home/edlab/sjim/k-ium-coding-vessels/wandb/run-20250528_144234-kxe9bib3</code>"
      ],
      "text/plain": [
       "<IPython.core.display.HTML object>"
      ]
     },
     "metadata": {},
     "output_type": "display_data"
    },
    {
     "data": {
      "text/html": [
       "Syncing run <strong><a href='https://wandb.ai/sujeongim/aneurysm-multimodal/runs/kxe9bib3' target=\"_blank\">denim-moon-2</a></strong> to <a href='https://wandb.ai/sujeongim/aneurysm-multimodal' target=\"_blank\">Weights & Biases</a> (<a href='https://wandb.me/developer-guide' target=\"_blank\">docs</a>)<br>"
      ],
      "text/plain": [
       "<IPython.core.display.HTML object>"
      ]
     },
     "metadata": {},
     "output_type": "display_data"
    },
    {
     "data": {
      "text/html": [
       " View project at <a href='https://wandb.ai/sujeongim/aneurysm-multimodal' target=\"_blank\">https://wandb.ai/sujeongim/aneurysm-multimodal</a>"
      ],
      "text/plain": [
       "<IPython.core.display.HTML object>"
      ]
     },
     "metadata": {},
     "output_type": "display_data"
    },
    {
     "data": {
      "text/html": [
       " View run at <a href='https://wandb.ai/sujeongim/aneurysm-multimodal/runs/kxe9bib3' target=\"_blank\">https://wandb.ai/sujeongim/aneurysm-multimodal/runs/kxe9bib3</a>"
      ],
      "text/plain": [
       "<IPython.core.display.HTML object>"
      ]
     },
     "metadata": {},
     "output_type": "display_data"
    },
    {
     "name": "stderr",
     "output_type": "stream",
     "text": [
      "/home/edlab/sjim/anaconda3/envs/ai502/lib/python3.10/site-packages/torchvision/models/_utils.py:208: UserWarning: The parameter 'pretrained' is deprecated since 0.13 and may be removed in the future, please use 'weights' instead.\n",
      "  warnings.warn(\n",
      "/home/edlab/sjim/anaconda3/envs/ai502/lib/python3.10/site-packages/torchvision/models/_utils.py:223: UserWarning: Arguments other than a weight enum or `None` for 'weights' are deprecated since 0.13 and may be removed in the future. The current behavior is equivalent to passing `weights=ResNet18_Weights.IMAGENET1K_V1`. You can also use `weights=ResNet18_Weights.DEFAULT` to get the most up-to-date weights.\n",
      "  warnings.warn(msg)\n",
      "17.4%"
     ]
    },
    {
     "name": "stdout",
     "output_type": "stream",
     "text": [
      "Downloading: \"https://download.pytorch.org/models/resnet18-f37072fd.pth\" to /home/sjim/.cache/torch/hub/checkpoints/resnet18-f37072fd.pth\n"
     ]
    },
    {
     "name": "stderr",
     "output_type": "stream",
     "text": [
      "100.0%\n",
      "Epoch 1:   0%|          | 0/226 [00:05<?, ?it/s]\n"
     ]
    },
    {
     "ename": "RuntimeError",
     "evalue": "Sizes of tensors must match except in dimension 1. Expected size 4 but got size 8 for tensor number 1 in the list.",
     "output_type": "error",
     "traceback": [
      "\u001b[0;31m---------------------------------------------------------------------------\u001b[0m",
      "\u001b[0;31mRuntimeError\u001b[0m                              Traceback (most recent call last)",
      "Cell \u001b[0;32mIn[11], line 83\u001b[0m\n\u001b[1;32m     81\u001b[0m \u001b[38;5;28;01mfor\u001b[39;00m images, texts, labels \u001b[38;5;129;01min\u001b[39;00m pbar:\n\u001b[1;32m     82\u001b[0m     images, labels \u001b[38;5;241m=\u001b[39m images\u001b[38;5;241m.\u001b[39mto(DEVICE), labels\u001b[38;5;241m.\u001b[39mto(DEVICE)\n\u001b[0;32m---> 83\u001b[0m     outputs \u001b[38;5;241m=\u001b[39m \u001b[43mmodel\u001b[49m\u001b[43m(\u001b[49m\u001b[43mimages\u001b[49m\u001b[43m,\u001b[49m\u001b[43m \u001b[49m\u001b[43mtexts\u001b[49m\u001b[43m)\u001b[49m\n\u001b[1;32m     84\u001b[0m     loss \u001b[38;5;241m=\u001b[39m criterion(outputs, labels)\n\u001b[1;32m     86\u001b[0m     optimizer\u001b[38;5;241m.\u001b[39mzero_grad()\n",
      "File \u001b[0;32m/home/edlab/sjim/anaconda3/envs/ai502/lib/python3.10/site-packages/torch/nn/modules/module.py:1751\u001b[0m, in \u001b[0;36mModule._wrapped_call_impl\u001b[0;34m(self, *args, **kwargs)\u001b[0m\n\u001b[1;32m   1749\u001b[0m     \u001b[38;5;28;01mreturn\u001b[39;00m \u001b[38;5;28mself\u001b[39m\u001b[38;5;241m.\u001b[39m_compiled_call_impl(\u001b[38;5;241m*\u001b[39margs, \u001b[38;5;241m*\u001b[39m\u001b[38;5;241m*\u001b[39mkwargs)  \u001b[38;5;66;03m# type: ignore[misc]\u001b[39;00m\n\u001b[1;32m   1750\u001b[0m \u001b[38;5;28;01melse\u001b[39;00m:\n\u001b[0;32m-> 1751\u001b[0m     \u001b[38;5;28;01mreturn\u001b[39;00m \u001b[38;5;28;43mself\u001b[39;49m\u001b[38;5;241;43m.\u001b[39;49m\u001b[43m_call_impl\u001b[49m\u001b[43m(\u001b[49m\u001b[38;5;241;43m*\u001b[39;49m\u001b[43margs\u001b[49m\u001b[43m,\u001b[49m\u001b[43m \u001b[49m\u001b[38;5;241;43m*\u001b[39;49m\u001b[38;5;241;43m*\u001b[39;49m\u001b[43mkwargs\u001b[49m\u001b[43m)\u001b[49m\n",
      "File \u001b[0;32m/home/edlab/sjim/anaconda3/envs/ai502/lib/python3.10/site-packages/torch/nn/modules/module.py:1762\u001b[0m, in \u001b[0;36mModule._call_impl\u001b[0;34m(self, *args, **kwargs)\u001b[0m\n\u001b[1;32m   1757\u001b[0m \u001b[38;5;66;03m# If we don't have any hooks, we want to skip the rest of the logic in\u001b[39;00m\n\u001b[1;32m   1758\u001b[0m \u001b[38;5;66;03m# this function, and just call forward.\u001b[39;00m\n\u001b[1;32m   1759\u001b[0m \u001b[38;5;28;01mif\u001b[39;00m \u001b[38;5;129;01mnot\u001b[39;00m (\u001b[38;5;28mself\u001b[39m\u001b[38;5;241m.\u001b[39m_backward_hooks \u001b[38;5;129;01mor\u001b[39;00m \u001b[38;5;28mself\u001b[39m\u001b[38;5;241m.\u001b[39m_backward_pre_hooks \u001b[38;5;129;01mor\u001b[39;00m \u001b[38;5;28mself\u001b[39m\u001b[38;5;241m.\u001b[39m_forward_hooks \u001b[38;5;129;01mor\u001b[39;00m \u001b[38;5;28mself\u001b[39m\u001b[38;5;241m.\u001b[39m_forward_pre_hooks\n\u001b[1;32m   1760\u001b[0m         \u001b[38;5;129;01mor\u001b[39;00m _global_backward_pre_hooks \u001b[38;5;129;01mor\u001b[39;00m _global_backward_hooks\n\u001b[1;32m   1761\u001b[0m         \u001b[38;5;129;01mor\u001b[39;00m _global_forward_hooks \u001b[38;5;129;01mor\u001b[39;00m _global_forward_pre_hooks):\n\u001b[0;32m-> 1762\u001b[0m     \u001b[38;5;28;01mreturn\u001b[39;00m \u001b[43mforward_call\u001b[49m\u001b[43m(\u001b[49m\u001b[38;5;241;43m*\u001b[39;49m\u001b[43margs\u001b[49m\u001b[43m,\u001b[49m\u001b[43m \u001b[49m\u001b[38;5;241;43m*\u001b[39;49m\u001b[38;5;241;43m*\u001b[39;49m\u001b[43mkwargs\u001b[49m\u001b[43m)\u001b[49m\n\u001b[1;32m   1764\u001b[0m result \u001b[38;5;241m=\u001b[39m \u001b[38;5;28;01mNone\u001b[39;00m\n\u001b[1;32m   1765\u001b[0m called_always_called_hooks \u001b[38;5;241m=\u001b[39m \u001b[38;5;28mset\u001b[39m()\n",
      "Cell \u001b[0;32mIn[3], line 51\u001b[0m, in \u001b[0;36mMultiModalAneurysmClassifier.forward\u001b[0;34m(self, images, texts)\u001b[0m\n\u001b[1;32m     48\u001b[0m tokens \u001b[38;5;241m=\u001b[39m \u001b[38;5;28mself\u001b[39m\u001b[38;5;241m.\u001b[39mtokenizer(txt_batch, return_tensors\u001b[38;5;241m=\u001b[39m\u001b[38;5;124m\"\u001b[39m\u001b[38;5;124mpt\u001b[39m\u001b[38;5;124m\"\u001b[39m, padding\u001b[38;5;241m=\u001b[39m\u001b[38;5;28;01mTrue\u001b[39;00m, truncation\u001b[38;5;241m=\u001b[39m\u001b[38;5;28;01mTrue\u001b[39;00m)\u001b[38;5;241m.\u001b[39mto(images\u001b[38;5;241m.\u001b[39mdevice)\n\u001b[1;32m     49\u001b[0m txt_feat \u001b[38;5;241m=\u001b[39m \u001b[38;5;28mself\u001b[39m\u001b[38;5;241m.\u001b[39mtext_encoder(\u001b[38;5;241m*\u001b[39m\u001b[38;5;241m*\u001b[39mtokens)\u001b[38;5;241m.\u001b[39mlast_hidden_state[:, \u001b[38;5;241m0\u001b[39m, :]  \u001b[38;5;66;03m# CLS token\u001b[39;00m\n\u001b[0;32m---> 51\u001b[0m fused \u001b[38;5;241m=\u001b[39m \u001b[43mtorch\u001b[49m\u001b[38;5;241;43m.\u001b[39;49m\u001b[43mcat\u001b[49m\u001b[43m(\u001b[49m\u001b[43m[\u001b[49m\u001b[43mimg_feat\u001b[49m\u001b[43m,\u001b[49m\u001b[43m \u001b[49m\u001b[43mtxt_feat\u001b[49m\u001b[43m]\u001b[49m\u001b[43m,\u001b[49m\u001b[43m \u001b[49m\u001b[43mdim\u001b[49m\u001b[38;5;241;43m=\u001b[39;49m\u001b[38;5;241;43m1\u001b[39;49m\u001b[43m)\u001b[49m  \u001b[38;5;66;03m# [B, image+text]\u001b[39;00m\n\u001b[1;32m     52\u001b[0m fused \u001b[38;5;241m=\u001b[39m \u001b[38;5;28mself\u001b[39m\u001b[38;5;241m.\u001b[39mfusion_layer(fused)  \u001b[38;5;66;03m# [B, hidden_dim]\u001b[39;00m\n\u001b[1;32m     53\u001b[0m all_fused\u001b[38;5;241m.\u001b[39mappend(fused)\n",
      "\u001b[0;31mRuntimeError\u001b[0m: Sizes of tensors must match except in dimension 1. Expected size 4 but got size 8 for tensor number 1 in the list."
     ]
    }
   ],
   "source": [
    "# train\n",
    "import os\n",
    "import wandb\n",
    "import torch\n",
    "from torch.utils.data import DataLoader, random_split\n",
    "import torch.nn as nn\n",
    "import torch.optim as optim\n",
    "from transformers import AutoTokenizer\n",
    "from torchvision import transforms\n",
    "from tqdm import tqdm\n",
    "\n",
    "# from model import MultiModalAneurysmClassifier  # 위에서 만든 모델 클래스\n",
    "# from dataset import AneurysmDataset             # 위에서 만든 Dataset 클래스\n",
    "\n",
    "# -------------------- Settings -------------------- #\n",
    "# csv_path = \"/home/edlab/sjim/k-ium-coding-vessels/train_set/train.csv\"\n",
    "# image_dir = \"/home/edlab/sjim/k-ium-coding-vessels/train_set/images\"\n",
    "CSV_PATH = \"/home/edlab/sjim/k-ium-coding-vessels/train_set/train.csv\"\n",
    "IMAGE_DIR = \"/home/edlab/sjim/k-ium-coding-vessels/train_set/images\"\n",
    "TEXT_MODEL_NAME = \"bert-base-uncased\"\n",
    "IMAGE_MODEL_NAME = \"resnet18\"\n",
    "EPOCHS = 3\n",
    "BATCH_SIZE = 4\n",
    "LR = 1e-4\n",
    "VAL_INTERVAL = 1  # validate every n steps\n",
    "DEVICE = torch.device(\"cuda\" if torch.cuda.is_available() else \"cpu\")\n",
    "\n",
    "wandb.init(project=\"aneurysm-multimodal\", config={\n",
    "    \"epochs\": EPOCHS,\n",
    "    \"batch_size\": BATCH_SIZE,\n",
    "    \"lr\": LR,\n",
    "    \"image_model\": IMAGE_MODEL_NAME,\n",
    "    \"text_model\": TEXT_MODEL_NAME\n",
    "})\n",
    "\n",
    "# -------------------- Load Data -------------------- #\n",
    "tokenizer = AutoTokenizer.from_pretrained(TEXT_MODEL_NAME)\n",
    "\n",
    "transform = transforms.Compose([\n",
    "    transforms.Resize((224, 224)),\n",
    "    transforms.ToTensor(),\n",
    "    transforms.Normalize(mean=[0.485, 0.456, 0.406],\n",
    "                         std=[0.229, 0.224, 0.225]),\n",
    "])\n",
    "\n",
    "full_dataset = AneurysmDataset(CSV_PATH, IMAGE_DIR, tokenizer, transform)\n",
    "\n",
    "train_size = int(0.8 * len(full_dataset))\n",
    "val_size = len(full_dataset) - train_size\n",
    "train_dataset, val_dataset = random_split(full_dataset, [train_size, val_size])\n",
    "\n",
    "train_loader = DataLoader(train_dataset, batch_size=BATCH_SIZE, shuffle=True, num_workers=4)\n",
    "val_loader = DataLoader(val_dataset, batch_size=BATCH_SIZE, shuffle=False, num_workers=4)\n",
    "\n",
    "# -------------------- Init Model -------------------- #\n",
    "model = MultiModalAneurysmClassifier(TEXT_MODEL_NAME, IMAGE_MODEL_NAME).to(DEVICE)\n",
    "criterion = nn.BCELoss()\n",
    "optimizer = optim.AdamW(model.parameters(), lr=LR)\n",
    "\n",
    "# -------------------- Validation Loop -------------------- #\n",
    "@torch.no_grad()\n",
    "def evaluate():\n",
    "    model.eval()\n",
    "    total_loss, total_correct = 0, 0\n",
    "    total = 0\n",
    "    for images, texts, labels in val_loader:\n",
    "        images, labels = images.to(DEVICE), labels.to(DEVICE)\n",
    "        outputs = model(images, texts)\n",
    "        loss = criterion(outputs, labels)\n",
    "        total_loss += loss.item()\n",
    "        \n",
    "        preds = (outputs > 0.5).float()\n",
    "        total_correct += (preds == labels).float().sum().item()\n",
    "        total += labels.numel()\n",
    "    accuracy = total_correct / total\n",
    "    return total_loss / len(val_loader), accuracy\n",
    "\n",
    "# -------------------- Training Loop -------------------- #\n",
    "model.train()\n",
    "global_step = 0\n",
    "for epoch in range(EPOCHS):\n",
    "    pbar = tqdm(train_loader, desc=f\"Epoch {epoch+1}\")\n",
    "    for images, texts, labels in pbar:\n",
    "        images, labels = images.to(DEVICE), labels.to(DEVICE)\n",
    "        outputs = model(images, texts)\n",
    "        loss = criterion(outputs, labels)\n",
    "\n",
    "        optimizer.zero_grad()\n",
    "        loss.backward()\n",
    "        optimizer.step()\n",
    "\n",
    "        # logging\n",
    "        wandb.log({\"train/loss\": loss.item(), \"step\": global_step})\n",
    "        pbar.set_postfix(loss=loss.item())\n",
    "\n",
    "        # validation\n",
    "        if global_step % VAL_INTERVAL == 0:\n",
    "            val_loss, val_acc = evaluate()\n",
    "            wandb.log({\n",
    "                \"val/loss\": val_loss,\n",
    "                \"val/accuracy\": val_acc,\n",
    "                \"step\": global_step\n",
    "            })\n",
    "\n",
    "        global_step += 1\n",
    "\n",
    "# Save model\n",
    "torch.save(model.state_dict(), \"aneurysm_model.pth\")\n",
    "wandb.save(\"aneurysm_model.pth\")\n"
   ]
  }
 ],
 "metadata": {
  "kernelspec": {
   "display_name": "ai502",
   "language": "python",
   "name": "python3"
  },
  "language_info": {
   "codemirror_mode": {
    "name": "ipython",
    "version": 3
   },
   "file_extension": ".py",
   "mimetype": "text/x-python",
   "name": "python",
   "nbconvert_exporter": "python",
   "pygments_lexer": "ipython3",
   "version": "3.10.16"
  }
 },
 "nbformat": 4,
 "nbformat_minor": 5
}
